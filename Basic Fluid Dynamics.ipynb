{
 "cells": [
  {
   "cell_type": "code",
   "execution_count": 5,
   "metadata": {},
   "outputs": [
    {
     "name": "stdout",
     "output_type": "stream",
     "text": [
      "0.031415926535897934\n"
     ]
    }
   ],
   "source": [
    "import numpy as np\n",
    "from collections import namedtuple\n",
    "\n",
    "# Just to simplify the declaration\n",
    "DVInput = namedtuple('DVInput', 'diameter, velocity') # (float[m], float[m/s]) \n",
    "\n",
    "# Simple fluid flow calculation\n",
    "def CalculateFluidFlow(dv:DVInput) -> float: # (m, m/s)\n",
    "    return np.pi * (dv.diameter/2)**2 * dv.velocity\n",
    "\n",
    "print(CalculateFluidFlow(DVInput(0.1, 4)))"
   ]
  },
  {
   "cell_type": "code",
   "execution_count": null,
   "metadata": {},
   "outputs": [],
   "source": []
  }
 ],
 "metadata": {
  "kernelspec": {
   "display_name": "Python 3",
   "language": "python",
   "name": "python3"
  },
  "language_info": {
   "codemirror_mode": {
    "name": "ipython",
    "version": 3
   },
   "file_extension": ".py",
   "mimetype": "text/x-python",
   "name": "python",
   "nbconvert_exporter": "python",
   "pygments_lexer": "ipython3",
   "version": "3.8.2"
  }
 },
 "nbformat": 4,
 "nbformat_minor": 4
}
